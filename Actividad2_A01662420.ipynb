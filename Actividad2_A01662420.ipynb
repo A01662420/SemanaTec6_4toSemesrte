{
  "nbformat": 4,
  "nbformat_minor": 0,
  "metadata": {
    "colab": {
      "provenance": [],
      "authorship_tag": "ABX9TyPxL1nGMj4nsBL977gcdp/L",
      "include_colab_link": true
    },
    "kernelspec": {
      "name": "python3",
      "display_name": "Python 3"
    },
    "language_info": {
      "name": "python"
    }
  },
  "cells": [
    {
      "cell_type": "markdown",
      "metadata": {
        "id": "view-in-github",
        "colab_type": "text"
      },
      "source": [
        "<a href=\"https://colab.research.google.com/github/A01662420/SemanaTec6_4toSemesrte/blob/main/Actividad2_A01662420.ipynb\" target=\"_parent\"><img src=\"https://colab.research.google.com/assets/colab-badge.svg\" alt=\"Open In Colab\"/></a>"
      ]
    },
    {
      "cell_type": "code",
      "source": [
        "import pandas as pd\n",
        "\n",
        "df = pd.read_csv(\"/content/Actividad_2/avocado.csv\")\n",
        "print(\"Cantidad de datos:\", len(df))\n",
        "print(\"Variables:\", list(df.columns))\n",
        "print(\"Tipos de variables:\\n\", df.dtypes)\n",
        "for col in df.columns:\n",
        "    print(col, \"máximo:\", df[col].max(), \"mínimo:\", df[col].min())\n",
        "print(\"Media:\\n\", df.mean())\n",
        "print(\"Mediana:\\n\", df.median())\n",
        "print(\"Desviación estándar:\\n\", df.std())\n"
      ],
      "metadata": {
        "colab": {
          "base_uri": "https://localhost:8080/"
        },
        "id": "81o9S7BYFC-D",
        "outputId": "438d7ccc-30df-4a34-d492-d9d9d01e7562"
      },
      "execution_count": 5,
      "outputs": [
        {
          "output_type": "stream",
          "name": "stdout",
          "text": [
            "Cantidad de datos: 18249\n",
            "Variables: ['Unnamed: 0', 'Date', 'AveragePrice', 'Total Volume', '4046', '4225', '4770', 'Total Bags', 'Small Bags', 'Large Bags', 'XLarge Bags', 'type', 'year', 'region']\n",
            "Tipos de variables:\n",
            " Unnamed: 0        int64\n",
            "Date             object\n",
            "AveragePrice    float64\n",
            "Total Volume    float64\n",
            "4046            float64\n",
            "4225            float64\n",
            "4770            float64\n",
            "Total Bags      float64\n",
            "Small Bags      float64\n",
            "Large Bags      float64\n",
            "XLarge Bags     float64\n",
            "type             object\n",
            "year              int64\n",
            "region           object\n",
            "dtype: object\n",
            "Unnamed: 0 máximo: 52 mínimo: 0\n",
            "Date máximo: 2018-03-25 mínimo: 2015-01-04\n",
            "AveragePrice máximo: 3.25 mínimo: 0.44\n",
            "Total Volume máximo: 62505646.52 mínimo: 84.56\n",
            "4046 máximo: 22743616.17 mínimo: 0.0\n",
            "4225 máximo: 20470572.61 mínimo: 0.0\n",
            "4770 máximo: 2546439.11 mínimo: 0.0\n",
            "Total Bags máximo: 19373134.37 mínimo: 0.0\n",
            "Small Bags máximo: 13384586.8 mínimo: 0.0\n",
            "Large Bags máximo: 5719096.61 mínimo: 0.0\n",
            "XLarge Bags máximo: 551693.65 mínimo: 0.0\n",
            "type máximo: organic mínimo: conventional\n",
            "year máximo: 2018 mínimo: 2015\n",
            "region máximo: WestTexNewMexico mínimo: Albany\n",
            "Media:\n",
            " Unnamed: 0          24.232232\n",
            "AveragePrice         1.405978\n",
            "Total Volume    850644.013009\n",
            "4046            293008.424531\n",
            "4225            295154.568356\n",
            "4770             22839.735993\n",
            "Total Bags      239639.202060\n",
            "Small Bags      182194.686696\n",
            "Large Bags       54338.088145\n",
            "XLarge Bags       3106.426507\n",
            "year              2016.147899\n",
            "dtype: float64\n",
            "Mediana:\n",
            " Unnamed: 0          24.00\n",
            "AveragePrice         1.37\n",
            "Total Volume    107376.76\n",
            "4046              8645.30\n",
            "4225             29061.02\n",
            "4770               184.99\n",
            "Total Bags       39743.83\n",
            "Small Bags       26362.82\n",
            "Large Bags        2647.71\n",
            "XLarge Bags          0.00\n",
            "year              2016.00\n",
            "dtype: float64\n",
            "Desviación estándar:\n",
            " Unnamed: 0      1.548104e+01\n",
            "AveragePrice    4.026766e-01\n",
            "Total Volume    3.453545e+06\n",
            "4046            1.264989e+06\n",
            "4225            1.204120e+06\n",
            "4770            1.074641e+05\n",
            "Total Bags      9.862424e+05\n",
            "Small Bags      7.461785e+05\n",
            "Large Bags      2.439660e+05\n",
            "XLarge Bags     1.769289e+04\n",
            "year            9.399385e-01\n",
            "dtype: float64\n"
          ]
        },
        {
          "output_type": "stream",
          "name": "stderr",
          "text": [
            "<ipython-input-5-54f29ada8139>:9: FutureWarning: Dropping of nuisance columns in DataFrame reductions (with 'numeric_only=None') is deprecated; in a future version this will raise TypeError.  Select only valid columns before calling the reduction.\n",
            "  print(\"Media:\\n\", df.mean())\n",
            "<ipython-input-5-54f29ada8139>:10: FutureWarning: Dropping of nuisance columns in DataFrame reductions (with 'numeric_only=None') is deprecated; in a future version this will raise TypeError.  Select only valid columns before calling the reduction.\n",
            "  print(\"Mediana:\\n\", df.median())\n",
            "<ipython-input-5-54f29ada8139>:11: FutureWarning: Dropping of nuisance columns in DataFrame reductions (with 'numeric_only=None') is deprecated; in a future version this will raise TypeError.  Select only valid columns before calling the reduction.\n",
            "  print(\"Desviación estándar:\\n\", df.std())\n"
          ]
        }
      ]
    }
  ]
}